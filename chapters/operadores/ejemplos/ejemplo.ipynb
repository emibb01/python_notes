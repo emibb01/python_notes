{
  "nbformat": 4,
  "nbformat_minor": 0,
  "metadata": {
    "colab": {
      "name": "ejemplo.ipynb",
      "provenance": []
    },
    "kernelspec": {
      "name": "python3",
      "display_name": "Python 3"
    },
    "language_info": {
      "name": "python"
    }
  },
  "cells": [
    {
      "cell_type": "code",
      "execution_count": 2,
      "metadata": {
        "colab": {
          "base_uri": "https://localhost:8080/"
        },
        "id": "GvKy_6vzgmkX",
        "outputId": "5bad37c8-9812-4484-d21a-ab8bf719e000"
      },
      "outputs": [
        {
          "output_type": "stream",
          "name": "stdout",
          "text": [
            "10\n",
            "a + b =  10\n",
            "7 + 3 = 10\n",
            "a - b =  4\n",
            "a * b =  21\n",
            "a / b =  2.3333333333333335\n",
            "a % b =  1\n",
            "a // b =  2\n",
            "a ** b =  343\n"
          ]
        }
      ],
      "source": [
        "a = 7\n",
        "b = 3\n",
        "\n",
        "suma = a + b\n",
        "resta = a - b\n",
        "multi = a * b\n",
        "division = a / b\n",
        "res = a % b\n",
        "floor = a // b\n",
        "exponente = a ** b\n",
        "\n",
        "print(suma)\n",
        "print('a + b = ', suma)\n",
        "print(a,'+',b,'=',suma)\n",
        "print('a - b = ', resta)\n",
        "print('a * b = ', multi)\n",
        "print('a / b = ', division)\n",
        "print('a % b = ', res)\n",
        "print('a // b = ', floor)\n",
        "print('a ** b = ', exponente)"
      ]
    },
    {
      "cell_type": "code",
      "source": [
        ""
      ],
      "metadata": {
        "id": "pOQM5Bjnhula"
      },
      "execution_count": null,
      "outputs": []
    }
  ]
}